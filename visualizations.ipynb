{
 "cells": [
  {
   "cell_type": "code",
   "execution_count": 1,
   "metadata": {},
   "outputs": [],
   "source": [
    "import os\n",
    "import json\n",
    "import pickle\n",
    "import numpy as np\n",
    "from get_12ECG_features import get_12ECG_features\n",
    "from driver import load_challenge_data"
   ]
  },
  {
   "cell_type": "code",
   "execution_count": 2,
   "metadata": {},
   "outputs": [],
   "source": [
    "# Define directories here\n",
    "data_dir = \"/share/workhorse3/vsanil/physionet/Training_WFDB\"\n",
    "data_json_path = \"/share/workhorse3/vsanil/physionet/\""
   ]
  },
  {
   "cell_type": "code",
   "execution_count": 3,
   "metadata": {},
   "outputs": [],
   "source": [
    "# Define program variables here\n",
    "data_dict = {}"
   ]
  },
  {
   "cell_type": "code",
   "execution_count": 4,
   "metadata": {},
   "outputs": [],
   "source": [
    "# Extracts features and stores as a dictionary\n",
    "def extract_all_data(path_name, data_dict):\n",
    "    # Walk through directory\n",
    "    for root, dirs, files in os.walk(path_name):\n",
    "        for filename in files:\n",
    "            if filename.endswith('.mat'):\n",
    "                print(os.path.join(root, filename))\n",
    "                data, header = load_challenge_data(os.path.join(root, filename))\n",
    "                data_dict[filename.replace('.mat','')] = [data, header]\n",
    "                \n",
    "    return data_dict\n",
    "\n",
    "# Save data in pickle format\n",
    "def save_pickle(path, data_dict):\n",
    "    with open(os.path.join(path, 'data.p'), 'wb') as fp:\n",
    "        pickle.dump(data_dict, fp, protocol=pickle.HIGHEST_PROTOCOL)"
   ]
  },
  {
   "cell_type": "code",
   "execution_count": 5,
   "metadata": {},
   "outputs": [],
   "source": [
    "# Check if model dictionary is already present\n",
    "if os.path.exists(os.path.join(data_json_path, 'data.p')):\n",
    "    with open(os.path.join(data_json_path, 'data.p'), 'rb') as fp:\n",
    "        data_dict = pickle.load(fp)\n",
    "else:\n",
    "    data_dict = extract_all_data(data_dir, data_dict)\n",
    "    save_pickle(data_json_path, data_dict)"
   ]
  },
  {
   "cell_type": "code",
   "execution_count": 8,
   "metadata": {},
   "outputs": [
    {
     "name": "stdout",
     "output_type": "stream",
     "text": [
      "(12, 5276)\n",
      "A4086 12 500 5276 12-May-2020 12:33:59\n",
      "A4086.mat 16+24 1000/mV 16 0 73 -9 0 I\n",
      "A4086.mat 16+24 1000/mV 16 0 -16 10 0 II\n",
      "A4086.mat 16+24 1000/mV 16 0 -89 66 0 III\n",
      "A4086.mat 16+24 1000/mV 16 0 -29 -11 0 aVR\n",
      "A4086.mat 16+24 1000/mV 16 0 82 -2 0 aVL\n",
      "A4086.mat 16+24 1000/mV 16 0 -53 -6 0 aVF\n",
      "A4086.mat 16+24 1000/mV 16 0 18 7 0 V1\n",
      "A4086.mat 16+24 1000/mV 16 0 61 22 0 V2\n",
      "A4086.mat 16+24 1000/mV 16 0 38 -9 0 V3\n",
      "A4086.mat 16+24 1000/mV 16 0 21 8 0 V4\n",
      "A4086.mat 16+24 1000/mV 16 0 -28 -52 0 V5\n",
      "A4086.mat 16+24 1000/mV 16 0 -59 -13 0 V6\n",
      "#Age: 28\n",
      "#Sex: Female\n",
      "#Dx: 429622005\n",
      "#Rx: Unknown\n",
      "#Hx: Unknown\n",
      "#Sx: Unknown\n"
     ]
    }
   ],
   "source": [
    "for filename, feature_list in data_dict.items():\n",
    "    feat_leat_12 = feature_list[0]\n",
    "    header_data = feature_list[1]\n",
    "    print(feat_leat_12.shape)\n",
    "    for h in header_data:\n",
    "        print(h[:-1])\n",
    "    break"
   ]
  },
  {
   "cell_type": "code",
   "execution_count": null,
   "metadata": {},
   "outputs": [],
   "source": []
  }
 ],
 "metadata": {
  "kernelspec": {
   "display_name": "Python 3",
   "language": "python",
   "name": "python3"
  },
  "language_info": {
   "codemirror_mode": {
    "name": "ipython",
    "version": 3
   },
   "file_extension": ".py",
   "mimetype": "text/x-python",
   "name": "python",
   "nbconvert_exporter": "python",
   "pygments_lexer": "ipython3",
   "version": "3.7.6"
  }
 },
 "nbformat": 4,
 "nbformat_minor": 4
}
